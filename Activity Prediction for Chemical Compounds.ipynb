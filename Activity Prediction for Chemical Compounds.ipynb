{
 "cells": [
  {
   "cell_type": "markdown",
   "metadata": {},
   "source": [
    "# Activity Prediction for Chemical Compounds"
   ]
  },
  {
   "cell_type": "markdown",
   "metadata": {},
   "source": [
    "This is my implementation of using a Random Forest classifier to do activity prediction on chemical compunds dataset.\n",
    "i.e. given a chemical compound in SMILES format the target is to output whether the chemical compound is active (=1) or inactive (=0)."
   ]
  },
  {
   "cell_type": "markdown",
   "metadata": {},
   "source": [
    "## Dataset"
   ]
  },
  {
   "cell_type": "markdown",
   "metadata": {},
   "source": [
    "For training the model we will use a subset of the [Tox21 data](https://tripod.nih.gov/tox21/challenge/). The data was released as part of a challenge in data analysis by to reveal how well they can predict compounds' interference in biochemical pathways using only chemical structure data. In this project we will use a subset of the data that consists of 19,125 chemical compounds represented bySMILES together with their activity label (0 = inactive, 1 =active)."
   ]
  },
  {
   "cell_type": "markdown",
   "metadata": {},
   "source": [
    "Once you download the dataset, it contains 2 folders: pos and neg.\n",
    "\n",
    "<img src=\"images/dataset folder.png\" width=\"200px\" />\n",
    "\n",
    "The folder name indicate the true sentiment of the files inside. Each folder contains an excel files."
   ]
  },
  {
   "cell_type": "markdown",
   "metadata": {},
   "source": [
    "## Loading the Training Data"
   ]
  },
  {
   "cell_type": "code",
   "execution_count": 4,
   "metadata": {},
   "outputs": [],
   "source": [
    "import numpy as np\n",
    "import matplotlib.pyplot as plt\n",
    "import pandas as pd\n",
    "import os\n",
    "import time"
   ]
  },
  {
   "cell_type": "code",
   "execution_count": 5,
   "metadata": {},
   "outputs": [],
   "source": [
    "#loading data\n",
    "smiles_df = pd.read_csv(\"data/training_smiles.csv\")\n",
    "X = smiles_df['SMILES'].to_numpy()\n",
    "y = smiles_df['ACTIVE'].to_numpy()"
   ]
  },
  {
   "cell_type": "code",
   "execution_count": 7,
   "metadata": {},
   "outputs": [
    {
     "data": {
      "text/plain": [
       "(19125,)"
      ]
     },
     "execution_count": 7,
     "metadata": {},
     "output_type": "execute_result"
    }
   ],
   "source": [
    "# shape of data\n",
    "X.shape"
   ]
  },
  {
   "cell_type": "markdown",
   "metadata": {},
   "source": [
    "Each chemical compound is stored in SMILES format. we will use ```RDKit``` [package](https://www.rdkit.org/) to parse the SMILES format and extract relevant features for each chmecial compound to use for training the model."
   ]
  },
  {
   "cell_type": "code",
   "execution_count": 8,
   "metadata": {},
   "outputs": [
    {
     "name": "stderr",
     "output_type": "stream",
     "text": [
      "RDKit WARNING: [11:21:37] Enabling RDKit 2019.09.1 jupyter extensions\n"
     ]
    }
   ],
   "source": [
    "from rdkit import Chem\n",
    "import rdkit.Chem.rdMolDescriptors as d\n",
    "import rdkit.Chem.Fragments as f\n",
    "import rdkit.Chem.Lipinski as l\n",
    "from rdkit.Chem import AllChem"
   ]
  },
  {
   "cell_type": "markdown",
   "metadata": {},
   "source": [
    "## Data Distribution"
   ]
  },
  {
   "cell_type": "markdown",
   "metadata": {},
   "source": [
    "we can plot a histogram to see the distribution of the data"
   ]
  },
  {
   "cell_type": "code",
   "execution_count": 20,
   "metadata": {},
   "outputs": [
    {
     "data": {
      "text/plain": [
       "<BarContainer object of 1 artists>"
      ]
     },
     "execution_count": 20,
     "metadata": {},
     "output_type": "execute_result"
    },
    {
     "data": {
      "image/png": "[encoded data removed]",
      "text/plain": [
       "<Figure size 432x288 with 1 Axes>"
      ]
     },
     "metadata": {
      "needs_background": "light"
     },
     "output_type": "display_data"
    }
   ],
   "source": [
    "classes, counts = np.unique(y, return_counts=True)\n",
    "classes = ['active' if c == 1 else 'inactive' for c in classes]\n",
    "plt.bar(classes[0], counts[0])\n",
    "plt.bar(classes[1], counts[1])"
   ]
  },
  {
   "cell_type": "markdown",
   "metadata": {},
   "source": [
    "## Train/Test Split"
   ]
  },
  {
   "cell_type": "markdown",
   "metadata": {},
   "source": [
    "At this point, it is a good idea to split the data into training data and testing data where the former is used in training the model while the later is used to evaluate its performance on unseen data before deploying it into a production environment.\n",
    "\n",
    "Since the distribution of the active/inative is skewed it is better to use a Stratified Shuffle Split to make sure the percentage of each class is preserved."
   ]
  },
  {
   "cell_type": "code",
   "execution_count": 21,
   "metadata": {},
   "outputs": [],
   "source": [
    "from sklearn.metrics import accuracy_score, roc_auc_score\n",
    "from sklearn.model_selection import StratifiedShuffleSplit"
   ]
  },
  {
   "cell_type": "code",
   "execution_count": 22,
   "metadata": {},
   "outputs": [],
   "source": [
    "# split data into a train data set and test data for final evaluation\n",
    "# test data 0.2%,  training and hyperparameter tuning 0.8%\n",
    "train_test_spliter = StratifiedShuffleSplit(n_splits=1, test_size=0.2)\n",
    "train_index, test_index = next(train_test_spliter.split(X, y))\n",
    "X_train, X_test = X[train_index], X[test_index]\n",
    "y_train, y_test = y[train_index], y[test_index]"
   ]
  },
  {
   "cell_type": "code",
   "execution_count": 24,
   "metadata": {},
   "outputs": [
    {
     "name": "stdout",
     "output_type": "stream",
     "text": [
      "X_train shape: (15300,)\n",
      "X_test shape: (3825,)\n",
      "y_train shape: (15300,)\n",
      "y_test shape: (3825,)\n"
     ]
    }
   ],
   "source": [
    "print(f\"X_train shape: {X_train.shape}\")\n",
    "print(f\"X_test shape: {X_test.shape}\")\n",
    "print(f\"y_train shape: {y_train.shape}\")\n",
    "print(f\"y_test shape: {y_test.shape}\")"
   ]
  },
  {
   "cell_type": "markdown",
   "metadata": {},
   "source": [
    "## Feature Extraction"
   ]
  },
  {
   "cell_type": "markdown",
   "metadata": {},
   "source": [
    "we will generate 114 features from rdMolDescriptors , Fragments , and Lipinski modules. We will use functions that return a numeric value. Below is a summary of number of functions used per module.\n",
    "\n",
    "Module|Number of functions|Usage\n",
    ":----------|:--------------:|:-----\n",
    "rdMolDescriptors |42| Compute molecular descriptors\n",
    "Fragments |85 |Compute fragments descriptors\n",
    "Lipinski |17| Compute Lipinski parameters"
   ]
  },
  {
   "cell_type": "code",
   "execution_count": 25,
   "metadata": {},
   "outputs": [],
   "source": [
    "# generate features from rdMolDescriptors (42 features), Lipinski (17 features) and fragments (85 features)\n",
    "\n",
    "X_moldesc_train = np.zeros((len(X_train), 144))\n",
    "molecules_train = [Chem.MolFromSmiles(s) for s in X_train]\n",
    "\n",
    "X_moldesc_test = np.zeros((len(X_test), 144))\n",
    "molecules_test = [Chem.MolFromSmiles(s) for s in X_test]\n",
    "\n",
    "for source, target in zip([molecules_train, molecules_test], [X_moldesc_train,  X_moldesc_test]):\n",
    "    for idx, m in enumerate(source):\n",
    "        target[idx] = [\n",
    "                        #rdMolDescriptors - 42 features\n",
    "                        d.CalcChi0n(m),\n",
    "                        d.CalcChi0v(m),\n",
    "                        d.CalcChi1n(m),\n",
    "                        d.CalcChi1v(m),\n",
    "                        d.CalcChi2n(m),\n",
    "                        d.CalcChi2v(m),\n",
    "                        d.CalcChi3n(m),\n",
    "                        d.CalcChi3v(m),\n",
    "                        d.CalcChi4n(m),\n",
    "                        d.CalcChi4v(m),\n",
    "                        d.CalcCrippenDescriptors(m)[0],\n",
    "                        d.CalcCrippenDescriptors(m)[1],\n",
    "                        d.CalcExactMolWt(m),\n",
    "                        d.CalcFractionCSP3(m),\n",
    "                        d.CalcHallKierAlpha(m),\n",
    "                        d.CalcKappa1(m),\n",
    "                        d.CalcKappa2(m),\n",
    "                        d.CalcKappa3(m),\n",
    "                        d.CalcLabuteASA(m),\n",
    "                        d.CalcNumAliphaticCarbocycles(m),\n",
    "                        d.CalcNumAliphaticHeterocycles(m),\n",
    "                        d.CalcNumAliphaticRings(m),\n",
    "                        d.CalcNumAmideBonds(m),\n",
    "                        d.CalcNumAromaticCarbocycles(m),\n",
    "                        d.CalcNumAromaticHeterocycles(m),\n",
    "                        d.CalcNumAromaticRings(m),\n",
    "                        d.CalcNumAtomStereoCenters(m),\n",
    "                        d.CalcNumBridgeheadAtoms(m),\n",
    "                        d.CalcNumHBA(m),\n",
    "                        d.CalcNumHBD(m),\n",
    "                        d.CalcNumHeteroatoms(m),\n",
    "                        d.CalcNumHeterocycles(m),\n",
    "                        d.CalcNumLipinskiHBA(m),\n",
    "                        d.CalcNumLipinskiHBD(m),\n",
    "                        d.CalcNumRings(m),\n",
    "                        d.CalcNumRotatableBonds(m),\n",
    "                        d.CalcNumSaturatedCarbocycles(m),\n",
    "                        d.CalcNumSaturatedHeterocycles(m),\n",
    "                        d.CalcNumSaturatedRings(m),\n",
    "                        d.CalcNumSpiroAtoms(m),\n",
    "                        d.CalcNumUnspecifiedAtomStereoCenters(m),\n",
    "                        d.CalcTPSA(m),\n",
    "\n",
    "                        # Lipinski - 17 features\n",
    "                        l.FractionCSP3(m),\n",
    "                        l.HeavyAtomCount(m),\n",
    "                        l.NHOHCount(m),\n",
    "                        l.NOCount(m),\n",
    "                        l.NumAliphaticCarbocycles(m),\n",
    "                        l.NumAliphaticHeterocycles(m),\n",
    "                        l.NumAliphaticRings(m),\n",
    "                        l.NumAromaticCarbocycles(m),\n",
    "                        l.NumAromaticHeterocycles(m),\n",
    "                        l.NumAromaticRings(m),\n",
    "                        l.NumHAcceptors(m),\n",
    "                        l.NumHDonors(m),\n",
    "                        l.NumHeteroatoms(m),\n",
    "                        l.NumRotatableBonds(m),\n",
    "                        l.NumSaturatedCarbocycles(m),\n",
    "                        l.NumSaturatedHeterocycles(m),\n",
    "                        l.NumSaturatedRings(m),\n",
    "\n",
    "                        # fragments  85 features\n",
    "                        f.fr_Al_COO(m),\n",
    "                        f.fr_Al_OH(m),\n",
    "                        f.fr_Al_OH_noTert(m),\n",
    "                        f.fr_ArN(m),\n",
    "                        f.fr_Ar_COO(m),\n",
    "                        f.fr_Ar_N(m),\n",
    "                        f.fr_Ar_NH(m),\n",
    "                        f.fr_Ar_OH(m),\n",
    "                        f.fr_COO(m),\n",
    "                        f.fr_COO2(m),\n",
    "                        f.fr_C_O(m),\n",
    "                        f.fr_C_O_noCOO(m),\n",
    "                        f.fr_C_S(m),\n",
    "                        f.fr_HOCCN(m),\n",
    "                        f.fr_Imine(m),\n",
    "                        f.fr_NH0(m),\n",
    "                        f.fr_NH1(m),\n",
    "                        f.fr_NH2(m),\n",
    "                        f.fr_N_O(m),\n",
    "                        f.fr_Ndealkylation1(m),\n",
    "                        f.fr_Ndealkylation2(m),\n",
    "                        f.fr_Nhpyrrole(m),\n",
    "                        f.fr_SH(m),\n",
    "                        f.fr_aldehyde(m),\n",
    "                        f.fr_alkyl_carbamate(m),\n",
    "                        f.fr_alkyl_halide(m),\n",
    "                        f.fr_allylic_oxid(m),\n",
    "                        f.fr_amide(m),\n",
    "                        f.fr_amidine(m),\n",
    "                        f.fr_aniline(m),\n",
    "                        f.fr_aryl_methyl(m),\n",
    "                        f.fr_azide(m),\n",
    "                        f.fr_azo(m),\n",
    "                        f.fr_barbitur(m),\n",
    "                        f.fr_benzene(m),\n",
    "                        f.fr_benzodiazepine(m),\n",
    "                        f.fr_bicyclic(m),\n",
    "                        f.fr_diazo(m),\n",
    "                        f.fr_dihydropyridine(m),\n",
    "                        f.fr_epoxide(m),\n",
    "                        f.fr_ester(m),\n",
    "                        f.fr_ether(m),\n",
    "                        f.fr_furan(m),\n",
    "                        f.fr_guanido(m),\n",
    "                        f.fr_halogen(m),\n",
    "                        f.fr_hdrzine(m),\n",
    "                        f.fr_hdrzone(m),\n",
    "                        f.fr_imidazole(m),\n",
    "                        f.fr_imide(m),\n",
    "                        f.fr_isocyan(m),\n",
    "                        f.fr_isothiocyan(m),\n",
    "                        f.fr_ketone(m),\n",
    "                        f.fr_ketone_Topliss(m),\n",
    "                        f.fr_lactam(m),\n",
    "                        f.fr_lactone(m),\n",
    "                        f.fr_methoxy(m),\n",
    "                        f.fr_morpholine(m),\n",
    "                        f.fr_nitrile(m),\n",
    "                        f.fr_nitro(m),\n",
    "                        f.fr_nitro_arom(m),\n",
    "                        f.fr_nitro_arom_nonortho(m),\n",
    "                        f.fr_nitroso(m),\n",
    "                        f.fr_oxazole(m),\n",
    "                        f.fr_oxime(m),\n",
    "                        f.fr_para_hydroxylation(m),\n",
    "                        f.fr_phenol(m),\n",
    "                        f.fr_phenol_noOrthoHbond(m),\n",
    "                        f.fr_phos_acid(m),\n",
    "                        f.fr_phos_ester(m),\n",
    "                        f.fr_piperdine(m),\n",
    "                        f.fr_piperzine(m),\n",
    "                        f.fr_priamide(m),\n",
    "                        f.fr_prisulfonamd(m),\n",
    "                        f.fr_pyridine(m),\n",
    "                        f.fr_quatN(m),\n",
    "                        f.fr_sulfide(m),\n",
    "                        f.fr_sulfonamd(m),\n",
    "                        f.fr_sulfone(m),\n",
    "                        f.fr_term_acetylene(m),\n",
    "                        f.fr_tetrazole(m),\n",
    "                        f.fr_thiazole(m),\n",
    "                        f.fr_thiocyan(m),\n",
    "                        f.fr_thiophene(m),\n",
    "                        f.fr_unbrch_alkane(m),\n",
    "                        f.fr_urea(m)\n",
    "                        ]"
   ]
  },
  {
   "cell_type": "markdown",
   "metadata": {},
   "source": [
    "## Building the Model"
   ]
  },
  {
   "cell_type": "markdown",
   "metadata": {},
   "source": [
    "We will use a random forest classifier and will use hyperparameter turing using grid search to find the best hyperparamters for the random forest. Below is a summary of the parameters that we will use in the search.\n",
    "\n",
    "|Hyperparameter |Value Range\n",
    ":----------|:---------------:|\n",
    "Maximum Depth per tree| [1, 5, 11, 21, None]\n",
    "Split Evaluation function |[Entropy, Gini Impurity]\n",
    "Minimum Sample Split| [2, 5, 10]"
   ]
  },
  {
   "cell_type": "markdown",
   "metadata": {},
   "source": [
    "We will split the training data into K folds, and for each combination of the hyperparameters, the model is trained on K-1 folds of the data and evaluated on a holdout set for all possible sections of the holdout set, and the model score is the average value across the K folds."
   ]
  },
  {
   "cell_type": "code",
   "execution_count": null,
   "metadata": {},
   "outputs": [],
   "source": []
  }
 ],
 "metadata": {
  "kernelspec": {
   "display_name": "Python 3",
   "language": "python",
   "name": "python3"
  },
  "language_info": {
   "codemirror_mode": {
    "name": "ipython",
    "version": 3
   },
   "file_extension": ".py",
   "mimetype": "text/x-python",
   "name": "python",
   "nbconvert_exporter": "python",
   "pygments_lexer": "ipython3",
   "version": "3.7.3"
  }
 },
 "nbformat": 4,
 "nbformat_minor": 2
}
