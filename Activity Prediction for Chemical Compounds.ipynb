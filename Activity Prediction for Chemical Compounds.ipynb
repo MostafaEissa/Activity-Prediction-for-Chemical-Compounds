{
 "cells": [
  {
   "cell_type": "markdown",
   "metadata": {},
   "source": [
    "# Activity Prediction for Chemical Compounds"
   ]
  },
  {
   "cell_type": "markdown",
   "metadata": {},
   "source": [
    "This is my implementation of using a Random Forest classifier to do activity prediction on chemical compunds dataset.\n",
    "i.e. given a chemical compound in SMILES format the target is to output whether the chemical compound is active (=1) or inactive (=0)."
   ]
  },
  {
   "cell_type": "markdown",
   "metadata": {},
   "source": [
    "## Dataset"
   ]
  },
  {
   "cell_type": "markdown",
   "metadata": {},
   "source": [
    "For training the model we will use a subset of the [Tox21 data](https://tripod.nih.gov/tox21/challenge/). The data was released as part of a challenge in data analysis by to reveal how well they can predict compounds' interference in biochemical pathways using only chemical structure data. In this project we will use a subset of the data that consists of 19,125 chemical compounds represented bySMILES together with their activity label (0 = inactive, 1 =active)."
   ]
  },
  {
   "cell_type": "markdown",
   "metadata": {},
   "source": [
    "Once you download the dataset, it contains 2 folders: pos and neg.\n",
    "\n",
    "<img src=\"images/dataset folder.png\" width=\"200px\" />\n",
    "\n",
    "The folder name indicate the true sentiment of the files inside. Each folder contains an excel files."
   ]
  },
  {
   "cell_type": "markdown",
   "metadata": {},
   "source": [
    "## Loading the Training Data"
   ]
  },
  {
   "cell_type": "code",
   "execution_count": 4,
   "metadata": {},
   "outputs": [],
   "source": [
    "import numpy as np\n",
    "import matplotlib.pyplot as plt\n",
    "import pandas as pd\n",
    "import os\n",
    "import time"
   ]
  },
  {
   "cell_type": "code",
   "execution_count": 5,
   "metadata": {},
   "outputs": [],
   "source": [
    "#loading data\n",
    "smiles_df = pd.read_csv(\"data/training_smiles.csv\")\n",
    "X = smiles_df['SMILES'].to_numpy()\n",
    "y = smiles_df['ACTIVE'].to_numpy()"
   ]
  },
  {
   "cell_type": "code",
   "execution_count": 7,
   "metadata": {},
   "outputs": [
    {
     "data": {
      "text/plain": [
       "(19125,)"
      ]
     },
     "execution_count": 7,
     "metadata": {},
     "output_type": "execute_result"
    }
   ],
   "source": [
    "# shape of data\n",
    "X.shape"
   ]
  },
  {
   "cell_type": "markdown",
   "metadata": {},
   "source": [
    "Each chemical compound is stored in SMILES format. we will use ```RDKit``` [package](https://www.rdkit.org/) to parse the SMILES format and extract relevant features for each chmecial compound to use for training the model."
   ]
  },
  {
   "cell_type": "code",
   "execution_count": 8,
   "metadata": {},
   "outputs": [
    {
     "name": "stderr",
     "output_type": "stream",
     "text": [
      "RDKit WARNING: [11:21:37] Enabling RDKit 2019.09.1 jupyter extensions\n"
     ]
    }
   ],
   "source": [
    "from rdkit import Chem\n",
    "import rdkit.Chem.rdMolDescriptors as d\n",
    "import rdkit.Chem.Fragments as f\n",
    "import rdkit.Chem.Lipinski as l\n",
    "from rdkit.Chem import AllChem"
   ]
  },
  {
   "cell_type": "markdown",
   "metadata": {},
   "source": [
    "## Data Distribution"
   ]
  },
  {
   "cell_type": "markdown",
   "metadata": {},
   "source": [
    "we can plot a histogram to see the distribution of the data"
   ]
  },
  {
   "cell_type": "code",
   "execution_count": 20,
   "metadata": {},
   "outputs": [
    {
     "data": {
      "text/plain": [
       "<BarContainer object of 1 artists>"
      ]
     },
     "execution_count": 20,
     "metadata": {},
     "output_type": "execute_result"
    },
    {
     "data": {
      "image/png": "[encoded data removed]",
      "text/plain": [
       "<Figure size 432x288 with 1 Axes>"
      ]
     },
     "metadata": {
      "needs_background": "light"
     },
     "output_type": "display_data"
    }
   ],
   "source": [
    "classes, counts = np.unique(y, return_counts=True)\n",
    "classes = ['active' if c == 1 else 'inactive' for c in classes]\n",
    "plt.bar(classes[0], counts[0])\n",
    "plt.bar(classes[1], counts[1])"
   ]
  },
  {
   "cell_type": "markdown",
   "metadata": {},
   "source": [
    "## Train/Test Split"
   ]
  },
  {
   "cell_type": "markdown",
   "metadata": {},
   "source": [
    "At this point, it is a good idea to split the data into training data and testing data where the former is used in training the model while the later is used to evaluate its performance on unseen data before deploying it into a production environment.\n",
    "\n",
    "Since the distribution of the active/inative is skewed it is better to use a Stratified Shuffle Split to make sure the percentage of each class is preserved."
   ]
  },
  {
   "cell_type": "code",
   "execution_count": 21,
   "metadata": {},
   "outputs": [],
   "source": [
    "from sklearn.metrics import accuracy_score, roc_auc_score\n",
    "from sklearn.model_selection import StratifiedShuffleSplit"
   ]
  },
  {
   "cell_type": "code",
   "execution_count": 22,
   "metadata": {},
   "outputs": [],
   "source": [
    "# split data into a train data set and test data for final evaluation\n",
    "# test data 0.2%,  training and hyperparameter tuning 0.8%\n",
    "train_test_spliter = StratifiedShuffleSplit(n_splits=1, test_size=0.2)\n",
    "train_index, test_index = next(train_test_spliter.split(X, y))\n",
    "X_train, X_test = X[train_index], X[test_index]\n",
    "y_train, y_test = y[train_index], y[test_index]"
   ]
  },
  {
   "cell_type": "code",
   "execution_count": 24,
   "metadata": {},
   "outputs": [
    {
     "name": "stdout",
     "output_type": "stream",
     "text": [
      "X_train shape: (15300,)\n",
      "X_test shape: (3825,)\n",
      "y_train shape: (15300,)\n",
      "y_test shape: (3825,)\n"
     ]
    }
   ],
   "source": [
    "print(f\"X_train shape: {X_train.shape}\")\n",
    "print(f\"X_test shape: {X_test.shape}\")\n",
    "print(f\"y_train shape: {y_train.shape}\")\n",
    "print(f\"y_test shape: {y_test.shape}\")"
   ]
  },
  {
   "cell_type": "markdown",
   "metadata": {},
   "source": [
    "## Feature Extraction"
   ]
  },
  {
   "cell_type": "markdown",
   "metadata": {},
   "source": [
    "we will generate 114 features from rdMolDescriptors , Fragments , and Lipinski modules. We will use functions that return a numeric value. Below is a summary of number of functions used per module.\n",
    "\n",
    "Module|Number of functions|Usage\n",
    ":----------|:--------------:|:-----\n",
    "rdMolDescriptors |42| Compute molecular descriptors\n",
    "Fragments |85 |Compute fragments descriptors\n",
    "Lipinski |17| Compute Lipinski parameters"
   ]
  },
  {
   "cell_type": "code",
   "execution_count": 25,
   "metadata": {},
   "outputs": [],
   "source": [
    "# generate features from rdMolDescriptors (42 features), Lipinski (17 features) and fragments (85 features)\n",
    "\n",
    "X_moldesc_train = np.zeros((len(X_train), 144))\n",
    "molecules_train = [Chem.MolFromSmiles(s) for s in X_train]\n",
    "\n",
    "X_moldesc_test = np.zeros((len(X_test), 144))\n",
    "molecules_test = [Chem.MolFromSmiles(s) for s in X_test]\n",
    "\n",
    "for source, target in zip([molecules_train, molecules_test], [X_moldesc_train,  X_moldesc_test]):\n",
    "    for idx, m in enumerate(source):\n",
    "        target[idx] = [\n",
    "                        #rdMolDescriptors - 42 features\n",
    "                        d.CalcChi0n(m),\n",
    "                        d.CalcChi0v(m),\n",
    "                        d.CalcChi1n(m),\n",
    "                        d.CalcChi1v(m),\n",
    "                        d.CalcChi2n(m),\n",
    "                        d.CalcChi2v(m),\n",
    "                        d.CalcChi3n(m),\n",
    "                        d.CalcChi3v(m),\n",
    "                        d.CalcChi4n(m),\n",
    "                        d.CalcChi4v(m),\n",
    "                        d.CalcCrippenDescriptors(m)[0],\n",
    "                        d.CalcCrippenDescriptors(m)[1],\n",
    "                        d.CalcExactMolWt(m),\n",
    "                        d.CalcFractionCSP3(m),\n",
    "                        d.CalcHallKierAlpha(m),\n",
    "                        d.CalcKappa1(m),\n",
    "                        d.CalcKappa2(m),\n",
    "                        d.CalcKappa3(m),\n",
    "                        d.CalcLabuteASA(m),\n",
    "                        d.CalcNumAliphaticCarbocycles(m),\n",
    "                        d.CalcNumAliphaticHeterocycles(m),\n",
    "                        d.CalcNumAliphaticRings(m),\n",
    "                        d.CalcNumAmideBonds(m),\n",
    "                        d.CalcNumAromaticCarbocycles(m),\n",
    "                        d.CalcNumAromaticHeterocycles(m),\n",
    "                        d.CalcNumAromaticRings(m),\n",
    "                        d.CalcNumAtomStereoCenters(m),\n",
    "                        d.CalcNumBridgeheadAtoms(m),\n",
    "                        d.CalcNumHBA(m),\n",
    "                        d.CalcNumHBD(m),\n",
    "                        d.CalcNumHeteroatoms(m),\n",
    "                        d.CalcNumHeterocycles(m),\n",
    "                        d.CalcNumLipinskiHBA(m),\n",
    "                        d.CalcNumLipinskiHBD(m),\n",
    "                        d.CalcNumRings(m),\n",
    "                        d.CalcNumRotatableBonds(m),\n",
    "                        d.CalcNumSaturatedCarbocycles(m),\n",
    "                        d.CalcNumSaturatedHeterocycles(m),\n",
    "                        d.CalcNumSaturatedRings(m),\n",
    "                        d.CalcNumSpiroAtoms(m),\n",
    "                        d.CalcNumUnspecifiedAtomStereoCenters(m),\n",
    "                        d.CalcTPSA(m),\n",
    "\n",
    "                        # Lipinski - 17 features\n",
    "                        l.FractionCSP3(m),\n",
    "                        l.HeavyAtomCount(m),\n",
    "                        l.NHOHCount(m),\n",
    "                        l.NOCount(m),\n",
    "                        l.NumAliphaticCarbocycles(m),\n",
    "                        l.NumAliphaticHeterocycles(m),\n",
    "                        l.NumAliphaticRings(m),\n",
    "                        l.NumAromaticCarbocycles(m),\n",
    "                        l.NumAromaticHeterocycles(m),\n",
    "                        l.NumAromaticRings(m),\n",
    "                        l.NumHAcceptors(m),\n",
    "                        l.NumHDonors(m),\n",
    "                        l.NumHeteroatoms(m),\n",
    "                        l.NumRotatableBonds(m),\n",
    "                        l.NumSaturatedCarbocycles(m),\n",
    "                        l.NumSaturatedHeterocycles(m),\n",
    "                        l.NumSaturatedRings(m),\n",
    "\n",
    "                        # fragments  85 features\n",
    "                        f.fr_Al_COO(m),\n",
    "                        f.fr_Al_OH(m),\n",
    "                        f.fr_Al_OH_noTert(m),\n",
    "                        f.fr_ArN(m),\n",
    "                        f.fr_Ar_COO(m),\n",
    "                        f.fr_Ar_N(m),\n",
    "                        f.fr_Ar_NH(m),\n",
    "                        f.fr_Ar_OH(m),\n",
    "                        f.fr_COO(m),\n",
    "                        f.fr_COO2(m),\n",
    "                        f.fr_C_O(m),\n",
    "                        f.fr_C_O_noCOO(m),\n",
    "                        f.fr_C_S(m),\n",
    "                        f.fr_HOCCN(m),\n",
    "                        f.fr_Imine(m),\n",
    "                        f.fr_NH0(m),\n",
    "                        f.fr_NH1(m),\n",
    "                        f.fr_NH2(m),\n",
    "                        f.fr_N_O(m),\n",
    "                        f.fr_Ndealkylation1(m),\n",
    "                        f.fr_Ndealkylation2(m),\n",
    "                        f.fr_Nhpyrrole(m),\n",
    "                        f.fr_SH(m),\n",
    "                        f.fr_aldehyde(m),\n",
    "                        f.fr_alkyl_carbamate(m),\n",
    "                        f.fr_alkyl_halide(m),\n",
    "                        f.fr_allylic_oxid(m),\n",
    "                        f.fr_amide(m),\n",
    "                        f.fr_amidine(m),\n",
    "                        f.fr_aniline(m),\n",
    "                        f.fr_aryl_methyl(m),\n",
    "                        f.fr_azide(m),\n",
    "                        f.fr_azo(m),\n",
    "                        f.fr_barbitur(m),\n",
    "                        f.fr_benzene(m),\n",
    "                        f.fr_benzodiazepine(m),\n",
    "                        f.fr_bicyclic(m),\n",
    "                        f.fr_diazo(m),\n",
    "                        f.fr_dihydropyridine(m),\n",
    "                        f.fr_epoxide(m),\n",
    "                        f.fr_ester(m),\n",
    "                        f.fr_ether(m),\n",
    "                        f.fr_furan(m),\n",
    "                        f.fr_guanido(m),\n",
    "                        f.fr_halogen(m),\n",
    "                        f.fr_hdrzine(m),\n",
    "                        f.fr_hdrzone(m),\n",
    "                        f.fr_imidazole(m),\n",
    "                        f.fr_imide(m),\n",
    "                        f.fr_isocyan(m),\n",
    "                        f.fr_isothiocyan(m),\n",
    "                        f.fr_ketone(m),\n",
    "                        f.fr_ketone_Topliss(m),\n",
    "                        f.fr_lactam(m),\n",
    "                        f.fr_lactone(m),\n",
    "                        f.fr_methoxy(m),\n",
    "                        f.fr_morpholine(m),\n",
    "                        f.fr_nitrile(m),\n",
    "                        f.fr_nitro(m),\n",
    "                        f.fr_nitro_arom(m),\n",
    "                        f.fr_nitro_arom_nonortho(m),\n",
    "                        f.fr_nitroso(m),\n",
    "                        f.fr_oxazole(m),\n",
    "                        f.fr_oxime(m),\n",
    "                        f.fr_para_hydroxylation(m),\n",
    "                        f.fr_phenol(m),\n",
    "                        f.fr_phenol_noOrthoHbond(m),\n",
    "                        f.fr_phos_acid(m),\n",
    "                        f.fr_phos_ester(m),\n",
    "                        f.fr_piperdine(m),\n",
    "                        f.fr_piperzine(m),\n",
    "                        f.fr_priamide(m),\n",
    "                        f.fr_prisulfonamd(m),\n",
    "                        f.fr_pyridine(m),\n",
    "                        f.fr_quatN(m),\n",
    "                        f.fr_sulfide(m),\n",
    "                        f.fr_sulfonamd(m),\n",
    "                        f.fr_sulfone(m),\n",
    "                        f.fr_term_acetylene(m),\n",
    "                        f.fr_tetrazole(m),\n",
    "                        f.fr_thiazole(m),\n",
    "                        f.fr_thiocyan(m),\n",
    "                        f.fr_thiophene(m),\n",
    "                        f.fr_unbrch_alkane(m),\n",
    "                        f.fr_urea(m)\n",
    "                        ]"
   ]
  },
  {
   "cell_type": "markdown",
   "metadata": {},
   "source": [
    "## Building the Model"
   ]
  },
  {
   "cell_type": "markdown",
   "metadata": {},
   "source": [
    "We will use a random forest classifier and will use hyperparameter turing using grid search to find the best hyperparamters for the random forest. Below is a summary of the parameters that we will use in the search.\n",
    "\n",
    "|Hyperparameter |Value Range\n",
    ":----------|:---------------:|\n",
    "Maximum Depth per tree| [1, 5, 11, 21, None]\n",
    "Split Evaluation function |[Entropy, Gini Impurity]\n",
    "Minimum Sample Split| [2, 5, 10]"
   ]
  },
  {
   "cell_type": "markdown",
   "metadata": {},
   "source": [
    "We will split the training data into K folds, and for each combination of the hyperparameters, the model is trained on K-1 folds of the data and evaluated on a holdout set for all possible sections of the holdout set, and the model score is the average value across the K folds."
   ]
  },
  {
   "cell_type": "code",
   "execution_count": 26,
   "metadata": {},
   "outputs": [],
   "source": [
    "from sklearn.model_selection import GridSearchCV\n",
    "from sklearn.metrics import  make_scorer\n",
    "from sklearn.ensemble import RandomForestClassifier"
   ]
  },
  {
   "cell_type": "code",
   "execution_count": 27,
   "metadata": {},
   "outputs": [
    {
     "name": "stdout",
     "output_type": "stream",
     "text": [
      "Fitting 5 folds for each of 30 candidates, totalling 150 fits\n"
     ]
    },
    {
     "name": "stderr",
     "output_type": "stream",
     "text": [
      "[Parallel(n_jobs=8)]: Using backend LokyBackend with 8 concurrent workers.\n",
      "[Parallel(n_jobs=8)]: Done  34 tasks      | elapsed:   45.0s\n",
      "[Parallel(n_jobs=8)]: Done 150 out of 150 | elapsed:  5.8min finished\n"
     ]
    },
    {
     "name": "stdout",
     "output_type": "stream",
     "text": [
      "Training time : 360.91 s.\n"
     ]
    }
   ],
   "source": [
    "t0 = time.perf_counter()\n",
    "estimator = RandomForestClassifier() #criterion = 'gini' #max_depth=None\n",
    "params = {\n",
    "                 'n_estimators': [300],\n",
    "                 'criterion': ['gini', 'entropy'], \n",
    "                 'max_depth': [1, 5, 11, 21, None],\n",
    "                 'min_samples_split': [2, 5, 10],\n",
    "        }\n",
    "clf = GridSearchCV(estimator, \n",
    "                   param_grid=params, \n",
    "                   scoring=make_scorer(roc_auc_score,needs_proba=True),\n",
    "                   cv=StratifiedShuffleSplit(n_splits=5, test_size=0.2), \n",
    "                   verbose=True,\n",
    "                   n_jobs=8,\n",
    "                   refit=True\n",
    "                  )\n",
    "search_stratified = clf.fit(X_moldesc_train, y_train)\n",
    "print(\"Training time : {0:.2f} s.\".format(time.perf_counter()-t0))"
   ]
  },
  {
   "cell_type": "code",
   "execution_count": 28,
   "metadata": {},
   "outputs": [
    {
     "data": {
      "text/plain": [
       "{'mean_fit_time': array([ 2.62287536,  2.62457609,  2.61933246,  9.48832998,  9.35933552,\n",
       "         9.47770772, 17.43483963, 17.00234785, 17.62909565, 24.9957902 ,\n",
       "        24.82156148, 27.05935149, 29.33239894, 29.19427643, 29.09761457,\n",
       "         3.54157038,  3.95474401,  3.72401681, 13.84436646, 13.56467662,\n",
       "        12.83385601, 22.8346333 , 23.38595061, 24.26350374, 28.84912925,\n",
       "        28.57452188, 27.07223945, 25.9837316 , 25.99995112, 22.04374743]),\n",
       " 'std_fit_time': array([0.04238415, 0.04258258, 0.03877318, 0.05557695, 0.11756448,\n",
       "        0.05588025, 0.33647026, 0.18747041, 0.15273676, 0.26634307,\n",
       "        0.53959789, 0.45088358, 0.43801118, 0.81672195, 0.30572381,\n",
       "        0.1555105 , 0.17730146, 0.14979471, 0.25705959, 0.43064702,\n",
       "        0.0956728 , 0.12883916, 0.60135558, 0.27525516, 0.66277259,\n",
       "        0.33424937, 0.57365903, 0.74606958, 0.23728644, 1.07185784]),\n",
       " 'mean_score_time': array([0.16146011, 0.14249134, 0.13121285, 0.16974859, 0.17859268,\n",
       "        0.21504302, 0.20724182, 0.1999527 , 0.22182269, 0.2773066 ,\n",
       "        0.25364919, 0.31403093, 0.31632409, 0.28947926, 0.32602744,\n",
       "        0.14164371, 0.1515594 , 0.14941969, 0.22584338, 0.20253921,\n",
       "        0.1977294 , 0.24473581, 0.245821  , 0.27549686, 0.29511576,\n",
       "        0.27403512, 0.23715248, 0.2665452 , 0.25878978, 0.17286806]),\n",
       " 'std_score_time': array([0.01168408, 0.01540006, 0.01249175, 0.01072116, 0.02231062,\n",
       "        0.01905035, 0.01195493, 0.00624578, 0.01530539, 0.03315517,\n",
       "        0.01839189, 0.03363889, 0.02864167, 0.02934902, 0.03867803,\n",
       "        0.01905154, 0.03327063, 0.02797814, 0.02168997, 0.00993774,\n",
       "        0.00854656, 0.01435694, 0.0178012 , 0.03773018, 0.01429202,\n",
       "        0.01752464, 0.00740909, 0.01910513, 0.01815032, 0.02066373]),\n",
       " 'param_criterion': masked_array(data=['gini', 'gini', 'gini', 'gini', 'gini', 'gini', 'gini',\n",
       "                    'gini', 'gini', 'gini', 'gini', 'gini', 'gini', 'gini',\n",
       "                    'gini', 'entropy', 'entropy', 'entropy', 'entropy',\n",
       "                    'entropy', 'entropy', 'entropy', 'entropy', 'entropy',\n",
       "                    'entropy', 'entropy', 'entropy', 'entropy', 'entropy',\n",
       "                    'entropy'],\n",
       "              mask=[False, False, False, False, False, False, False, False,\n",
       "                    False, False, False, False, False, False, False, False,\n",
       "                    False, False, False, False, False, False, False, False,\n",
       "                    False, False, False, False, False, False],\n",
       "        fill_value='?',\n",
       "             dtype=object),\n",
       " 'param_max_depth': masked_array(data=[1, 1, 1, 5, 5, 5, 11, 11, 11, 21, 21, 21, None, None,\n",
       "                    None, 1, 1, 1, 5, 5, 5, 11, 11, 11, 21, 21, 21, None,\n",
       "                    None, None],\n",
       "              mask=[False, False, False, False, False, False, False, False,\n",
       "                    False, False, False, False, False, False, False, False,\n",
       "                    False, False, False, False, False, False, False, False,\n",
       "                    False, False, False, False, False, False],\n",
       "        fill_value='?',\n",
       "             dtype=object),\n",
       " 'param_min_samples_split': masked_array(data=[2, 5, 10, 2, 5, 10, 2, 5, 10, 2, 5, 10, 2, 5, 10, 2, 5,\n",
       "                    10, 2, 5, 10, 2, 5, 10, 2, 5, 10, 2, 5, 10],\n",
       "              mask=[False, False, False, False, False, False, False, False,\n",
       "                    False, False, False, False, False, False, False, False,\n",
       "                    False, False, False, False, False, False, False, False,\n",
       "                    False, False, False, False, False, False],\n",
       "        fill_value='?',\n",
       "             dtype=object),\n",
       " 'param_n_estimators': masked_array(data=[300, 300, 300, 300, 300, 300, 300, 300, 300, 300, 300,\n",
       "                    300, 300, 300, 300, 300, 300, 300, 300, 300, 300, 300,\n",
       "                    300, 300, 300, 300, 300, 300, 300, 300],\n",
       "              mask=[False, False, False, False, False, False, False, False,\n",
       "                    False, False, False, False, False, False, False, False,\n",
       "                    False, False, False, False, False, False, False, False,\n",
       "                    False, False, False, False, False, False],\n",
       "        fill_value='?',\n",
       "             dtype=object),\n",
       " 'params': [{'criterion': 'gini',\n",
       "   'max_depth': 1,\n",
       "   'min_samples_split': 2,\n",
       "   'n_estimators': 300},\n",
       "  {'criterion': 'gini',\n",
       "   'max_depth': 1,\n",
       "   'min_samples_split': 5,\n",
       "   'n_estimators': 300},\n",
       "  {'criterion': 'gini',\n",
       "   'max_depth': 1,\n",
       "   'min_samples_split': 10,\n",
       "   'n_estimators': 300},\n",
       "  {'criterion': 'gini',\n",
       "   'max_depth': 5,\n",
       "   'min_samples_split': 2,\n",
       "   'n_estimators': 300},\n",
       "  {'criterion': 'gini',\n",
       "   'max_depth': 5,\n",
       "   'min_samples_split': 5,\n",
       "   'n_estimators': 300},\n",
       "  {'criterion': 'gini',\n",
       "   'max_depth': 5,\n",
       "   'min_samples_split': 10,\n",
       "   'n_estimators': 300},\n",
       "  {'criterion': 'gini',\n",
       "   'max_depth': 11,\n",
       "   'min_samples_split': 2,\n",
       "   'n_estimators': 300},\n",
       "  {'criterion': 'gini',\n",
       "   'max_depth': 11,\n",
       "   'min_samples_split': 5,\n",
       "   'n_estimators': 300},\n",
       "  {'criterion': 'gini',\n",
       "   'max_depth': 11,\n",
       "   'min_samples_split': 10,\n",
       "   'n_estimators': 300},\n",
       "  {'criterion': 'gini',\n",
       "   'max_depth': 21,\n",
       "   'min_samples_split': 2,\n",
       "   'n_estimators': 300},\n",
       "  {'criterion': 'gini',\n",
       "   'max_depth': 21,\n",
       "   'min_samples_split': 5,\n",
       "   'n_estimators': 300},\n",
       "  {'criterion': 'gini',\n",
       "   'max_depth': 21,\n",
       "   'min_samples_split': 10,\n",
       "   'n_estimators': 300},\n",
       "  {'criterion': 'gini',\n",
       "   'max_depth': None,\n",
       "   'min_samples_split': 2,\n",
       "   'n_estimators': 300},\n",
       "  {'criterion': 'gini',\n",
       "   'max_depth': None,\n",
       "   'min_samples_split': 5,\n",
       "   'n_estimators': 300},\n",
       "  {'criterion': 'gini',\n",
       "   'max_depth': None,\n",
       "   'min_samples_split': 10,\n",
       "   'n_estimators': 300},\n",
       "  {'criterion': 'entropy',\n",
       "   'max_depth': 1,\n",
       "   'min_samples_split': 2,\n",
       "   'n_estimators': 300},\n",
       "  {'criterion': 'entropy',\n",
       "   'max_depth': 1,\n",
       "   'min_samples_split': 5,\n",
       "   'n_estimators': 300},\n",
       "  {'criterion': 'entropy',\n",
       "   'max_depth': 1,\n",
       "   'min_samples_split': 10,\n",
       "   'n_estimators': 300},\n",
       "  {'criterion': 'entropy',\n",
       "   'max_depth': 5,\n",
       "   'min_samples_split': 2,\n",
       "   'n_estimators': 300},\n",
       "  {'criterion': 'entropy',\n",
       "   'max_depth': 5,\n",
       "   'min_samples_split': 5,\n",
       "   'n_estimators': 300},\n",
       "  {'criterion': 'entropy',\n",
       "   'max_depth': 5,\n",
       "   'min_samples_split': 10,\n",
       "   'n_estimators': 300},\n",
       "  {'criterion': 'entropy',\n",
       "   'max_depth': 11,\n",
       "   'min_samples_split': 2,\n",
       "   'n_estimators': 300},\n",
       "  {'criterion': 'entropy',\n",
       "   'max_depth': 11,\n",
       "   'min_samples_split': 5,\n",
       "   'n_estimators': 300},\n",
       "  {'criterion': 'entropy',\n",
       "   'max_depth': 11,\n",
       "   'min_samples_split': 10,\n",
       "   'n_estimators': 300},\n",
       "  {'criterion': 'entropy',\n",
       "   'max_depth': 21,\n",
       "   'min_samples_split': 2,\n",
       "   'n_estimators': 300},\n",
       "  {'criterion': 'entropy',\n",
       "   'max_depth': 21,\n",
       "   'min_samples_split': 5,\n",
       "   'n_estimators': 300},\n",
       "  {'criterion': 'entropy',\n",
       "   'max_depth': 21,\n",
       "   'min_samples_split': 10,\n",
       "   'n_estimators': 300},\n",
       "  {'criterion': 'entropy',\n",
       "   'max_depth': None,\n",
       "   'min_samples_split': 2,\n",
       "   'n_estimators': 300},\n",
       "  {'criterion': 'entropy',\n",
       "   'max_depth': None,\n",
       "   'min_samples_split': 5,\n",
       "   'n_estimators': 300},\n",
       "  {'criterion': 'entropy',\n",
       "   'max_depth': None,\n",
       "   'min_samples_split': 10,\n",
       "   'n_estimators': 300}],\n",
       " 'split0_test_score': array([0.64260536, 0.637848  , 0.65128839, 0.72668774, 0.72171791,\n",
       "        0.71211011, 0.76079258, 0.768907  , 0.75760752, 0.76996329,\n",
       "        0.75850598, 0.74387574, 0.77191601, 0.77223776, 0.75207515,\n",
       "        0.65893132, 0.66269714, 0.64134266, 0.74264138, 0.73850929,\n",
       "        0.73493571, 0.77476314, 0.76922672, 0.79086248, 0.76467374,\n",
       "        0.77931208, 0.75441841, 0.78724235, 0.77550983, 0.77143239]),\n",
       " 'split1_test_score': array([0.63039528, 0.63397493, 0.62375603, 0.70450158, 0.69950747,\n",
       "        0.70105751, 0.75260532, 0.74477015, 0.732382  , 0.74945263,\n",
       "        0.75458839, 0.7372547 , 0.7613187 , 0.74590333, 0.74429664,\n",
       "        0.64905844, 0.64048468, 0.62401099, 0.72078303, 0.72313439,\n",
       "        0.71673999, 0.75250009, 0.75649862, 0.75189303, 0.7389909 ,\n",
       "        0.76691583, 0.74903173, 0.76701094, 0.75745778, 0.75729185]),\n",
       " 'split2_test_score': array([0.63649829, 0.62563792, 0.6523892 , 0.69435957, 0.7001206 ,\n",
       "        0.69073742, 0.75112003, 0.75271863, 0.75343092, 0.76413548,\n",
       "        0.77158213, 0.79127123, 0.76166878, 0.77284482, 0.75760347,\n",
       "        0.6316944 , 0.63243501, 0.62109506, 0.70918407, 0.70702292,\n",
       "        0.70952807, 0.76364174, 0.75783821, 0.76020171, 0.78622046,\n",
       "        0.7742694 , 0.77473077, 0.77492098, 0.78783727, 0.78426976]),\n",
       " 'split3_test_score': array([0.64540392, 0.64966551, 0.66051778, 0.70138532, 0.69688293,\n",
       "        0.69815169, 0.73855786, 0.76460494, 0.74744123, 0.72791198,\n",
       "        0.75190922, 0.76093423, 0.74232773, 0.75045024, 0.75082864,\n",
       "        0.65743997, 0.65307316, 0.65728213, 0.71943737, 0.72262851,\n",
       "        0.72793829, 0.75950561, 0.74970153, 0.74827088, 0.76135715,\n",
       "        0.7581215 , 0.76328964, 0.74460624, 0.75970189, 0.75926683]),\n",
       " 'split4_test_score': array([0.65553986, 0.64532703, 0.6512034 , 0.72286526, 0.7260139 ,\n",
       "        0.7293487 , 0.77530545, 0.77223776, 0.77680693, 0.7849092 ,\n",
       "        0.78684371, 0.78604239, 0.76423059, 0.78478172, 0.77208599,\n",
       "        0.6488824 , 0.64886823, 0.6655463 , 0.7488314 , 0.73873188,\n",
       "        0.74532055, 0.77491693, 0.77110255, 0.77014744, 0.77332238,\n",
       "        0.79285769, 0.78105637, 0.7842212 , 0.78170391, 0.78303338]),\n",
       " 'mean_test_score': array([0.64208854, 0.63849068, 0.64783096, 0.70995989, 0.70884856,\n",
       "        0.70628109, 0.75567625, 0.7606477 , 0.75353372, 0.75927452,\n",
       "        0.76468588, 0.76387566, 0.76029236, 0.76524357, 0.75537798,\n",
       "        0.64920131, 0.64751165, 0.64185543, 0.72817545, 0.7260054 ,\n",
       "        0.72689252, 0.7650655 , 0.76087352, 0.76427511, 0.76491293,\n",
       "        0.7742953 , 0.76450538, 0.77160034, 0.77244214, 0.77105884]),\n",
       " 'std_test_score': array([0.0084874 , 0.00845708, 0.01252727, 0.01259409, 0.01238449,\n",
       "        0.01342439, 0.01212198, 0.01032639, 0.01444135, 0.0193654 ,\n",
       "        0.0129763 , 0.02172191, 0.00976007, 0.01470595, 0.00936495,\n",
       "        0.00968672, 0.01039282, 0.01760068, 0.01501736, 0.01181771,\n",
       "        0.01272774, 0.00873984, 0.00809414, 0.01528016, 0.01555238,\n",
       "        0.01171136, 0.0120096 , 0.01526256, 0.01199205, 0.01137224]),\n",
       " 'rank_test_score': array([28, 30, 26, 22, 23, 24, 16, 13, 18, 15,  8, 11, 14,  5, 17, 25, 27,\n",
       "        29, 19, 21, 20,  6, 12, 10,  7,  1,  9,  3,  2,  4])}"
      ]
     },
     "execution_count": 28,
     "metadata": {},
     "output_type": "execute_result"
    }
   ],
   "source": [
    "search_stratified.cv_results_"
   ]
  },
  {
   "cell_type": "markdown",
   "metadata": {},
   "source": [
    "We can see the hyperparameters that got the best estimation"
   ]
  },
  {
   "cell_type": "code",
   "execution_count": 30,
   "metadata": {},
   "outputs": [
    {
     "data": {
      "text/plain": [
       "RandomForestClassifier(bootstrap=True, class_weight=None, criterion='entropy',\n",
       "                       max_depth=21, max_features='auto', max_leaf_nodes=None,\n",
       "                       min_impurity_decrease=0.0, min_impurity_split=None,\n",
       "                       min_samples_leaf=1, min_samples_split=5,\n",
       "                       min_weight_fraction_leaf=0.0, n_estimators=300,\n",
       "                       n_jobs=None, oob_score=False, random_state=None,\n",
       "                       verbose=0, warm_start=False)"
      ]
     },
     "execution_count": 30,
     "metadata": {},
     "output_type": "execute_result"
    }
   ],
   "source": [
    "search_stratified.best_estimator_"
   ]
  },
  {
   "cell_type": "markdown",
   "metadata": {},
   "source": [
    "we can then use these hyperpamaters to train a model on the entire training dataset and use it to evaluation the performance on the test data"
   ]
  },
  {
   "cell_type": "code",
   "execution_count": 31,
   "metadata": {},
   "outputs": [
    {
     "data": {
      "text/plain": [
       "RandomForestClassifier(bootstrap=True, class_weight='balanced',\n",
       "                       criterion='entropy', max_depth=21, max_features='auto',\n",
       "                       max_leaf_nodes=None, min_impurity_decrease=0.0,\n",
       "                       min_impurity_split=None, min_samples_leaf=1,\n",
       "                       min_samples_split=5, min_weight_fraction_leaf=0.0,\n",
       "                       n_estimators=300, n_jobs=None, oob_score=False,\n",
       "                       random_state=None, verbose=0, warm_start=False)"
      ]
     },
     "execution_count": 31,
     "metadata": {},
     "output_type": "execute_result"
    }
   ],
   "source": [
    "k = RandomForestClassifier(bootstrap=True, class_weight='balanced', criterion='entropy',\n",
    "                       max_depth=21, max_features='auto', max_leaf_nodes=None,\n",
    "                       min_impurity_decrease=0.0, min_impurity_split=None,\n",
    "                       min_samples_leaf=1, min_samples_split=5,\n",
    "                       min_weight_fraction_leaf=0.0, n_estimators=300,\n",
    "                       n_jobs=None, oob_score=False, random_state=None,\n",
    "                       verbose=0, warm_start=False)\n",
    "k.fit(X_moldesc_train, y_train)"
   ]
  },
  {
   "cell_type": "markdown",
   "metadata": {},
   "source": [
    "## Testing the Model"
   ]
  },
  {
   "cell_type": "code",
   "execution_count": 34,
   "metadata": {},
   "outputs": [
    {
     "name": "stdout",
     "output_type": "stream",
     "text": [
      "Training Accuracy: 99.92%\n",
      "Training AUC: 99.98%\n"
     ]
    }
   ],
   "source": [
    "#training accuracy\n",
    "y_acc_train = k.predict(X_moldesc_train)\n",
    "y_auc_train = [j[1] for j in k.predict_proba(X_moldesc_train)]\n",
    "acc = accuracy_score(y_train, y_acc_train)\n",
    "auc = roc_auc_score(y_train, y_auc_train)\n",
    "\n",
    "print(f\"Training Accuracy: {acc:.2%}\")\n",
    "print(f\"Training AUC: {auc:.2%}\")"
   ]
  },
  {
   "cell_type": "code",
   "execution_count": 35,
   "metadata": {},
   "outputs": [
    {
     "name": "stdout",
     "output_type": "stream",
     "text": [
      "Testing Accuracy: 97.33%\n",
      "Testing AUC: 81.90%\n"
     ]
    }
   ],
   "source": [
    "#testing accuracy\n",
    "y_acc_test = k.predict(X_moldesc_test)\n",
    "y_auc_test = [j[1] for j in k.predict_proba(X_moldesc_test)]\n",
    "acc = accuracy_score(y_test, y_acc_test)\n",
    "auc = roc_auc_score(y_test, y_auc_test)\n",
    "\n",
    "print(f\"Testing Accuracy: {acc:.2%}\")\n",
    "print(f\"Testing AUC: {auc:.2%}\")"
   ]
  }
 ],
 "metadata": {
  "kernelspec": {
   "display_name": "Python 3",
   "language": "python",
   "name": "python3"
  },
  "language_info": {
   "codemirror_mode": {
    "name": "ipython",
    "version": 3
   },
   "file_extension": ".py",
   "mimetype": "text/x-python",
   "name": "python",
   "nbconvert_exporter": "python",
   "pygments_lexer": "ipython3",
   "version": "3.7.3"
  }
 },
 "nbformat": 4,
 "nbformat_minor": 2
}
